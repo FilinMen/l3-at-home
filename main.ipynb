{
 "cells": [
  {
   "cell_type": "code",
   "execution_count": 4,
   "metadata": {},
   "outputs": [
    {
     "name": "stdout",
     "output_type": "stream",
     "text": [
      " сторона восьми угольника с использованием полного числа pi 8.2842712474619\n"
     ]
    }
   ],
   "source": [
    "import math\n",
    "from math import pi, tan, radians\n",
    "r = 10 # радиус вписанной окружности\n",
    "s = tan(radians(22.5))\n",
    "d = r * s # половина стороны восьмиугольника\n",
    "f = d * 2 # сторона восьмиугольника\n",
    "print(\" сторона восьми угольника с использованием полного числа pi\", f)"
   ]
  },
  {
   "cell_type": "code",
   "execution_count": 22,
   "metadata": {},
   "outputs": [
    {
     "name": "stdout",
     "output_type": "stream",
     "text": [
      " сторона восьми угольника с использованием полного числа PI=3.14 8.2842712474619\n"
     ]
    }
   ],
   "source": [
    "import math\n",
    "from math import pi, tan, radians\n",
    "r = 10 # радиус вписанной окружности\n",
    "n = 22.5 * pi/ 180\n",
    "f = tan(n)\n",
    "i = f * r # половина сторолны сторона восьмиугольника\n",
    "m = i * 2 # сторона восьмиугольника\n",
    "print(\" сторона восьми угольника с использованием полного числа PI=3.14\", m)"
   ]
  },
  {
   "cell_type": "code",
   "execution_count": 17,
   "metadata": {},
   "outputs": [
    {
     "name": "stdout",
     "output_type": "stream",
     "text": [
      "0.41421356237309503\n",
      "0.39269908169872414\n"
     ]
    }
   ],
   "source": [
    "s = tan(radians(22.5))\n",
    "print(s)\n",
    "n = 22.5 * pi/ 180\n",
    "print(n)"
   ]
  }
 ],
 "metadata": {
  "kernelspec": {
   "display_name": "Python 3",
   "language": "python",
   "name": "python3"
  },
  "language_info": {
   "codemirror_mode": {
    "name": "ipython",
    "version": 3
   },
   "file_extension": ".py",
   "mimetype": "text/x-python",
   "name": "python",
   "nbconvert_exporter": "python",
   "pygments_lexer": "ipython3",
   "version": "3.12.3"
  }
 },
 "nbformat": 4,
 "nbformat_minor": 2
}
